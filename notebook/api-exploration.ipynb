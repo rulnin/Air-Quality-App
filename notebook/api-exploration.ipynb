{
 "cells": [
  {
   "cell_type": "code",
   "execution_count": 9,
   "metadata": {},
   "outputs": [],
   "source": [
    "import json\n",
    "\n",
    "from openaq import OpenAQ"
   ]
  },
  {
   "cell_type": "code",
   "execution_count": 10,
   "metadata": {},
   "outputs": [],
   "source": [
    "with open(\"../secrets.json\") as f:\n",
    "    secrets = json.load(f)\n",
    "\n",
    "openaq_key = secrets[\"openaq-api-key\"]"
   ]
  },
  {
   "cell_type": "code",
   "execution_count": 11,
   "metadata": {},
   "outputs": [
    {
     "data": {
      "text/plain": [
       "<openaq._sync.client.OpenAQ at 0x21a343f6660>"
      ]
     },
     "execution_count": 11,
     "metadata": {},
     "output_type": "execute_result"
    }
   ],
   "source": [
    "client = OpenAQ(api_key=openaq_key)\n",
    "\n",
    "client"
   ]
  },
  {
   "cell_type": "code",
   "execution_count": 12,
   "metadata": {},
   "outputs": [
    {
     "data": {
      "text/plain": [
       "Meta(name='openaq-api', website='/', page=1, limit=1000, found=17)"
      ]
     },
     "execution_count": 12,
     "metadata": {},
     "output_type": "execute_result"
    }
   ],
   "source": [
    "sa_bbox_search_locations = client.locations.list(\n",
    "    bbox=(106.381165,-6.669295,107.352081,-5.863620),\n",
    "    limit=1000\n",
    ")\n",
    "\n",
    "sa_bbox_search_locations.meta"
   ]
  },
  {
   "cell_type": "code",
   "execution_count": 13,
   "metadata": {},
   "outputs": [
    {
     "data": {
      "text/plain": [
       "{'id': 2537,\n",
       " 'name': 'US Diplomatic Post: Jakarta South',\n",
       " 'locality': None,\n",
       " 'timezone': 'Asia/Jakarta',\n",
       " 'country': CountryBase(id=1, code='ID', name='Indonesia'),\n",
       " 'owner': OwnerBase(id=4, name='Unknown Governmental Organization'),\n",
       " 'provider': ProviderBase(id=257, name='StateAir JakartaSouth'),\n",
       " 'is_mobile': False,\n",
       " 'is_monitor': True,\n",
       " 'instruments': [InstrumentBase(id=2, name='Government Monitor')],\n",
       " 'sensors': [SensorBase(id=5047, name='pm25 µg/m³', parameter=ParameterBase(id=2, name='pm25', units='µg/m³', display_name='PM2.5'))],\n",
       " 'coordinates': Coordinates(latitude=-6.236585, longitude=106.793335),\n",
       " 'bounds': [106.793335, -6.236585, 106.793335, -6.236585],\n",
       " 'distance': None,\n",
       " 'datetime_first': Datetime(utc='2016-01-30T01:00:00Z', local='2016-01-30T08:00:00+07:00'),\n",
       " 'datetime_last': Datetime(utc='2016-11-09T16:00:00Z', local='2016-11-09T23:00:00+07:00')}"
      ]
     },
     "execution_count": 13,
     "metadata": {},
     "output_type": "execute_result"
    }
   ],
   "source": [
    "sa_bbox_search_locations.results[0].__dict__"
   ]
  },
  {
   "cell_type": "code",
   "execution_count": 14,
   "metadata": {},
   "outputs": [
    {
     "data": {
      "text/plain": [
       "{2537: 'US Diplomatic Post: Jakarta South',\n",
       " 2538: 'US Diplomatic Post: Jakarta Central',\n",
       " 8320: 'US Diplomatic Post: Jakarta South',\n",
       " 8637: 'Jakarta Central',\n",
       " 223262: 'Cilandek',\n",
       " 223824: 'Cilandek',\n",
       " 1367443: 'Depok',\n",
       " 1489107: 'Cipete',\n",
       " 1563313: 'Qoryah Darussalam',\n",
       " 1776543: 'Jihan Fauziah Hamdi ',\n",
       " 1894639: 'Jakarta',\n",
       " 2071976: 'Krukut',\n",
       " 2849176: 'Margonda Residence 3 ',\n",
       " 3084738: 'Jaja',\n",
       " 3276989: 'Cipete Jakarta',\n",
       " 3280117: 'Cipete Jakarta',\n",
       " 3294802: 'Cipete Dec'}"
      ]
     },
     "execution_count": 14,
     "metadata": {},
     "output_type": "execute_result"
    }
   ],
   "source": [
    "locations_info = {}\n",
    "\n",
    "for location in sa_bbox_search_locations.results:\n",
    "\n",
    "    locations_info[location.id] = location.name\n",
    "\n",
    "locations_info"
   ]
  },
  {
   "cell_type": "code",
   "execution_count": 15,
   "metadata": {},
   "outputs": [],
   "source": [
    "with open(\"../locations.json\", \"w\", encoding=\"utf-8\") as f:\n",
    "    json.dump(locations_info, f, ensure_ascii=False, indent=4)\n",
    "    f.close()"
   ]
  }
 ],
 "metadata": {
  "kernelspec": {
   "display_name": ".venv",
   "language": "python",
   "name": "python3"
  },
  "language_info": {
   "codemirror_mode": {
    "name": "ipython",
    "version": 3
   },
   "file_extension": ".py",
   "mimetype": "text/x-python",
   "name": "python",
   "nbconvert_exporter": "python",
   "pygments_lexer": "ipython3",
   "version": "3.12.4"
  }
 },
 "nbformat": 4,
 "nbformat_minor": 2
}
